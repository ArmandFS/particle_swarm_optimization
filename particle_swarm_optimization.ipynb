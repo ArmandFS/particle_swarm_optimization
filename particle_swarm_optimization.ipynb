{
 "cells": [
  {
   "cell_type": "markdown",
   "id": "d8bf89f7",
   "metadata": {},
   "source": [
    "### Particle Swam Optimization (PSO) Algorithm Introduction\n",
    "\n",
    "PSO has been used in various applications, including optimization problems, machine learning, and engineering design. It is particularly effective for problems where the search space is large and complex. For example, PSO has been used to optimize the parameters of texture descriptors in image processing, and to select the most discriminative features for cell classicification."
   ]
  },
  {
   "cell_type": "code",
   "execution_count": 9,
   "id": "f7549611",
   "metadata": {},
   "outputs": [],
   "source": [
    "import numpy as np\n",
    "import random"
   ]
  },
  {
   "cell_type": "code",
   "execution_count": 10,
   "id": "6133a51e",
   "metadata": {},
   "outputs": [],
   "source": [
    "#define the objective function\n",
    "def objective_function(params):\n",
    "    x, y, z = params[0], params[1], params[2]\n",
    "    return(x-4)**2 + (y-5)**2 + (z+6)**2"
   ]
  },
  {
   "cell_type": "code",
   "execution_count": 11,
   "id": "e0a3697f",
   "metadata": {},
   "outputs": [],
   "source": [
    "#define the bounds of the search space\n",
    "bounds = np.array([[-10, -10, -10], [10, 10, 10]])"
   ]
  },
  {
   "cell_type": "code",
   "execution_count": 12,
   "id": "eaebb70a",
   "metadata": {},
   "outputs": [],
   "source": [
    "#define the parameters of the optimization that control the movement of the particles in the search space\n",
    "#10 birds to find solutions\n",
    "n_particles = 10\n",
    "max_iterations = 30"
   ]
  },
  {
   "cell_type": "markdown",
   "id": "08687fa2",
   "metadata": {},
   "source": [
    "The inertia weight balances the particle's current velocity. High w value leads to more exploration and less exploitation\n",
    "c1 and c2 are the acceleration coefficients that control the influence of the particle's own best position and the global best position. c1 is the cognitive component, representing the particle's tendency to move towards its best personal position, while c2 is the social component, representing the particle's tendency to move towards the global best position found by the swarm."
   ]
  },
  {
   "cell_type": "code",
   "execution_count": 13,
   "id": "14ffb8de",
   "metadata": {},
   "outputs": [],
   "source": [
    "w = 0.5\n",
    "#you can play with these values to see how they affect the optimization process\n",
    "c1 = 0.8 \n",
    "c2 = 0.9 "
   ]
  },
  {
   "cell_type": "markdown",
   "id": "36858656",
   "metadata": {},
   "source": [
    "We basically initalize the particles randomly within the bounds of the search space"
   ]
  },
  {
   "cell_type": "code",
   "execution_count": 14,
   "id": "066bf375",
   "metadata": {},
   "outputs": [],
   "source": [
    "#Initialize the particles and velocities\n",
    "particles = np.random.uniform(low=bounds[0], high=bounds[1], size=(n_particles, 3))\n",
    "#create a velocity array\n",
    "velocities = np.zeros((n_particles, 3))"
   ]
  },
  {
   "cell_type": "code",
   "execution_count": 15,
   "id": "1041bf2b",
   "metadata": {},
   "outputs": [],
   "source": [
    "#initialize the best positions and the best costs\n",
    "best_positions = particles.copy()\n",
    "best_costs = np.array([objective_function(p) for p in particles])\n",
    "\n",
    "#initialize the global best position and cost\n",
    "global_best_position = particles[0].copy()\n",
    "global_best_cost = best_costs[0]"
   ]
  },
  {
   "cell_type": "markdown",
   "id": "6feacd89",
   "metadata": {},
   "source": [
    "Here we use a for loop to iterate through and perform the optimization process. The cognitive component is calculated by taking the difference between the particle's current position and its best personal position found so far. The social component is calculated by taking the difference between the particle's current position and the global best position found by the swarm. The velocity of each particle is updated based on these components, and then the particles are moved to their new positions. The best personal positions and costs are updated accordingly."
   ]
  },
  {
   "cell_type": "code",
   "execution_count": 16,
   "id": "690a74dd",
   "metadata": {},
   "outputs": [
    {
     "name": "stdout",
     "output_type": "stream",
     "text": [
      "Iteration 1: Best Cost = 9.768174\n",
      "Iteration 2: Best Cost = 9.768174\n",
      "Iteration 3: Best Cost = 9.768174\n",
      "Iteration 4: Best Cost = 3.654040\n",
      "Iteration 5: Best Cost = 3.198960\n",
      "Iteration 6: Best Cost = 0.914929\n",
      "Iteration 7: Best Cost = 0.914929\n",
      "Iteration 8: Best Cost = 0.914929\n",
      "Iteration 9: Best Cost = 0.070869\n",
      "Iteration 10: Best Cost = 0.070869\n",
      "Iteration 11: Best Cost = 0.009530\n",
      "Iteration 12: Best Cost = 0.009530\n",
      "Iteration 13: Best Cost = 0.009530\n",
      "Iteration 14: Best Cost = 0.009530\n",
      "Iteration 15: Best Cost = 0.009530\n",
      "Iteration 16: Best Cost = 0.006380\n",
      "Iteration 17: Best Cost = 0.001433\n",
      "Iteration 18: Best Cost = 0.001129\n",
      "Iteration 19: Best Cost = 0.000389\n",
      "Iteration 20: Best Cost = 0.000389\n",
      "Iteration 21: Best Cost = 0.000340\n",
      "Iteration 22: Best Cost = 0.000028\n",
      "Iteration 23: Best Cost = 0.000028\n",
      "Iteration 24: Best Cost = 0.000010\n",
      "Iteration 25: Best Cost = 0.000000\n",
      "Iteration 26: Best Cost = 0.000000\n",
      "Iteration 27: Best Cost = 0.000000\n",
      "Iteration 28: Best Cost = 0.000000\n",
      "Iteration 29: Best Cost = 0.000000\n",
      "Iteration 30: Best Cost = 0.000000\n",
      "Global Best Position:  [ 4.00027113  4.99968737 -5.99957314]\n",
      "Global Best Cost:  3.5345443575244655e-07\n"
     ]
    }
   ],
   "source": [
    "#use a for loop to iterate through and perform the optimization process\n",
    "for i in range(max_iterations):\n",
    "    #update velocities\n",
    "    r1 = np.random.rand(n_particles, 3) #random matrix used to compute cognitive component\n",
    "    r2 = np.random.rand(n_particles, 3) #----------------------------- social component\n",
    "    \n",
    "    #then, multiply it by a random matrix r1 and a cognitive acceleration coefficient c1.\n",
    "    cognitive_component = c1 * r1 * (best_positions - particles)\n",
    "    social_component = c2 * r2 * (global_best_position - particles)\n",
    "    \n",
    "    #create a velocity variable to be updated based on these components\n",
    "    velocities = w * velocities + cognitive_component + social_component\n",
    "    \n",
    "    #update the particles\n",
    "    particles += velocities\n",
    "    \n",
    "    #enforce the bounds of the search space, with clip limiting the values of an array\n",
    "    #Make sure these are within the bounds\n",
    "    particles = np.clip(particles, bounds[0], bounds[1])\n",
    "    \n",
    "    #create a cost variable to evaluate the objective function\n",
    "    costs = np.array([objective_function(p) for p in particles])\n",
    "    \n",
    "    #update the best positions and best costs\n",
    "    is_best = costs < best_costs\n",
    "    best_positions[is_best] = particles[is_best]\n",
    "    best_costs[is_best] = costs[is_best]\n",
    "    \n",
    "    #update the global best position and global best cost\n",
    "    global_best_index = np.argmin(best_costs)\n",
    "    global_best_position = best_positions[global_best_index].copy()\n",
    "    global_best_cost = best_costs[global_best_index]\n",
    "    \n",
    "    #print the progress\n",
    "    print(f'Iteration {i+1}: Best Cost = {global_best_cost:.6f}')\n",
    "    \n",
    "#Print the results\n",
    "print('Global Best Position: ', global_best_position)\n",
    "print('Global Best Cost: ', global_best_cost)"
   ]
  }
 ],
 "metadata": {
  "kernelspec": {
   "display_name": "Python 3",
   "language": "python",
   "name": "python3"
  },
  "language_info": {
   "codemirror_mode": {
    "name": "ipython",
    "version": 3
   },
   "file_extension": ".py",
   "mimetype": "text/x-python",
   "name": "python",
   "nbconvert_exporter": "python",
   "pygments_lexer": "ipython3",
   "version": "3.11.3"
  }
 },
 "nbformat": 4,
 "nbformat_minor": 5
}
